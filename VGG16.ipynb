{
 "cells": [
  {
   "cell_type": "code",
   "execution_count": 1,
   "metadata": {
    "id": "iUGCkcKmYItU"
   },
   "outputs": [],
   "source": [
    "import tensorflow as tf\n",
    "%matplotlib inline \n",
    "from tensorflow import keras\n",
    "from sklearn import metrics\n",
    "import numpy as np\n",
    "import pandas as pd\n",
    "from sklearn.model_selection import train_test_split\n",
    "from keras.models import Sequential\n",
    "from keras.layers.core import Dense, Dropout, Activation, Flatten\n",
    "from keras.layers.convolutional import Conv2D\n",
    "from keras.layers import Dense, Conv2D, MaxPool2D , Flatten ,BatchNormalization\n",
    "from tensorflow.keras.optimizers import Adam,Nadam, SGD\n",
    "import seaborn as sns\n",
    "from sklearn.metrics import classification_report\n",
    "from sklearn.metrics import confusion_matrix\n",
    "import matplotlib.pyplot as plt\n",
    "import cv2\n",
    "import os\n",
    "from os import listdir"
   ]
  },
  {
   "cell_type": "code",
   "execution_count": 2,
   "metadata": {
    "id": "EZpxu855d4E3"
   },
   "outputs": [],
   "source": [
    "cats=[]\n",
    "i=0\n",
    "for images in os.listdir('cats'):\n",
    "    img=cv2.imread((\"cats//\" +images),cv2.IMREAD_UNCHANGED)\n",
    "    if(type(img) == type(None)):\n",
    "      pass\n",
    "    else:\n",
    "      resized = cv2.resize(img, (224,224), interpolation = cv2.INTER_AREA)\n",
    "      normalize=(np.asarray(resized).astype('float32')) / 255\n",
    "      cats.append(normalize)"
   ]
  },
  {
   "cell_type": "code",
   "execution_count": 3,
   "metadata": {
    "id": "si5nJncfd85F"
   },
   "outputs": [],
   "source": [
    "dogs=[]\n",
    "i=0\n",
    "for images in os.listdir('dogs'):\n",
    "    img=cv2.imread((\"dogs//\" +images),cv2.IMREAD_UNCHANGED)\n",
    "    if(type(img) == type(None)):\n",
    "      pass\n",
    "    else:\n",
    "      resized = cv2.resize(img, (224,224), interpolation = cv2.INTER_AREA)\n",
    "      normalize=(np.asarray(resized).astype('float32')) / 255\n",
    "      dogs.append(normalize)"
   ]
  },
  {
   "cell_type": "code",
   "execution_count": 4,
   "metadata": {
    "id": "j--3x2pBeAbL"
   },
   "outputs": [],
   "source": [
    "data = cats+dogs\n",
    "data = np.array(data)"
   ]
  },
  {
   "cell_type": "code",
   "execution_count": 5,
   "metadata": {
    "colab": {
     "base_uri": "https://localhost:8080/"
    },
    "id": "XopOXHNAlN3H",
    "outputId": "86ad66fb-d6db-4d5f-b63b-7c36968df8ee"
   },
   "outputs": [
    {
     "data": {
      "text/plain": [
       "(1995, 224, 224, 3)"
      ]
     },
     "execution_count": 5,
     "metadata": {},
     "output_type": "execute_result"
    }
   ],
   "source": [
    "data.shape"
   ]
  },
  {
   "cell_type": "code",
   "execution_count": 6,
   "metadata": {
    "id": "ZXbfbApseB05"
   },
   "outputs": [],
   "source": [
    "cats_labels = np.ones(len(cats))\n",
    "dogs_labels = np.zeros(len(dogs))"
   ]
  },
  {
   "cell_type": "code",
   "execution_count": 7,
   "metadata": {
    "colab": {
     "base_uri": "https://localhost:8080/"
    },
    "id": "kIpEYWc7khXH",
    "outputId": "b230b512-2fc3-40c6-8058-2ae5f2a07fbd"
   },
   "outputs": [
    {
     "data": {
      "text/plain": [
       "array([1., 1., 1., ..., 0., 0., 0.])"
      ]
     },
     "execution_count": 7,
     "metadata": {},
     "output_type": "execute_result"
    }
   ],
   "source": [
    "labels = np.concatenate((cats_labels, dogs_labels))\n",
    "labels"
   ]
  },
  {
   "cell_type": "code",
   "execution_count": 8,
   "metadata": {
    "id": "M8JVLQ9FgOAJ"
   },
   "outputs": [],
   "source": [
    "x_train,x_test,y_train,y_test = train_test_split(data,labels,shuffle=True,test_size=0.1)"
   ]
  },
  {
   "cell_type": "code",
   "execution_count": 9,
   "metadata": {
    "colab": {
     "base_uri": "https://localhost:8080/"
    },
    "id": "3g1PTbZxm72J",
    "outputId": "d31e8425-49c2-4049-f1ca-45a835deca93"
   },
   "outputs": [
    {
     "data": {
      "text/plain": [
       "(200, 224, 224, 3)"
      ]
     },
     "execution_count": 9,
     "metadata": {},
     "output_type": "execute_result"
    }
   ],
   "source": [
    "x_test.shape"
   ]
  },
  {
   "cell_type": "code",
   "execution_count": 10,
   "metadata": {
    "colab": {
     "base_uri": "https://localhost:8080/"
    },
    "id": "z3E_fzEMnSZA",
    "outputId": "6c04a695-bbdd-43c7-90c3-a38103057398"
   },
   "outputs": [
    {
     "data": {
      "text/plain": [
       "(200,)"
      ]
     },
     "execution_count": 10,
     "metadata": {},
     "output_type": "execute_result"
    }
   ],
   "source": [
    "y_test.shape"
   ]
  },
  {
   "cell_type": "code",
   "execution_count": 11,
   "metadata": {
    "id": "M3A7Mf3KgV57"
   },
   "outputs": [],
   "source": [
    "model = Sequential()\n",
    "model.add(Conv2D(input_shape=(224,224,3),filters=64,kernel_size=(3,3),padding=\"same\", activation=\"relu\"))\n",
    "model.add(Conv2D(filters=64,kernel_size=(3,3),padding=\"same\", activation=\"relu\"))\n",
    "model.add(BatchNormalization())\n",
    "model.add(MaxPool2D(pool_size=(2,2),strides=(2,2)))\n",
    "\n",
    "model.add(Conv2D(filters=128, kernel_size=(3,3), padding=\"same\", activation=\"relu\"))\n",
    "model.add(Conv2D(filters=128, kernel_size=(3,3), padding=\"same\", activation=\"relu\"))\n",
    "model.add(BatchNormalization())\n",
    "model.add(MaxPool2D(pool_size=(2,2),strides=(2,2)))\n",
    "\n",
    "model.add(Conv2D(filters=256, kernel_size=(3,3), padding=\"same\", activation=\"relu\"))\n",
    "model.add(Conv2D(filters=256, kernel_size=(3,3), padding=\"same\", activation=\"relu\"))\n",
    "model.add(Conv2D(filters=256, kernel_size=(3,3), padding=\"same\", activation=\"relu\"))\n",
    "model.add(BatchNormalization())\n",
    "model.add(MaxPool2D(pool_size=(2,2),strides=(2,2)))\n",
    "\n",
    "model.add(Conv2D(filters=512, kernel_size=(3,3), padding=\"same\", activation=\"relu\"))\n",
    "model.add(Conv2D(filters=512, kernel_size=(3,3), padding=\"same\", activation=\"relu\"))\n",
    "model.add(Conv2D(filters=512, kernel_size=(3,3), padding=\"same\", activation=\"relu\"))\n",
    "model.add(BatchNormalization())\n",
    "model.add(MaxPool2D(pool_size=(2,2),strides=(2,2)))\n",
    "\n",
    "model.add(Conv2D(filters=512, kernel_size=(3,3), padding=\"same\", activation=\"relu\"))\n",
    "model.add(Conv2D(filters=512, kernel_size=(3,3), padding=\"same\", activation=\"relu\"))\n",
    "model.add(Conv2D(filters=512, kernel_size=(3,3), padding=\"same\", activation=\"relu\"))\n",
    "model.add(BatchNormalization())\n",
    "model.add(MaxPool2D(pool_size=(2,2),strides=(2,2)))"
   ]
  },
  {
   "cell_type": "code",
   "execution_count": 12,
   "metadata": {
    "id": "Qp-iCgZIsmLj"
   },
   "outputs": [],
   "source": [
    "model.add(Flatten())\n",
    "model.add(Dense(units=4096,activation=\"relu\"))\n",
    "model.add(Dense(units=4096,activation=\"relu\"))\n",
    "model.add(Dense(units=2, activation=\"softmax\"))"
   ]
  },
  {
   "cell_type": "code",
   "execution_count": 13,
   "metadata": {
    "colab": {
     "base_uri": "https://localhost:8080/"
    },
    "id": "HbTdvtvEgWD-",
    "outputId": "4e817627-be38-4512-f59d-ab78078aafcd"
   },
   "outputs": [
    {
     "name": "stdout",
     "output_type": "stream",
     "text": [
      "Model: \"sequential\"\n",
      "_________________________________________________________________\n",
      " Layer (type)                Output Shape              Param #   \n",
      "=================================================================\n",
      " conv2d (Conv2D)             (None, 224, 224, 64)      1792      \n",
      "                                                                 \n",
      " conv2d_1 (Conv2D)           (None, 224, 224, 64)      36928     \n",
      "                                                                 \n",
      " batch_normalization (BatchN  (None, 224, 224, 64)     256       \n",
      " ormalization)                                                   \n",
      "                                                                 \n",
      " max_pooling2d (MaxPooling2D  (None, 112, 112, 64)     0         \n",
      " )                                                               \n",
      "                                                                 \n",
      " conv2d_2 (Conv2D)           (None, 112, 112, 128)     73856     \n",
      "                                                                 \n",
      " conv2d_3 (Conv2D)           (None, 112, 112, 128)     147584    \n",
      "                                                                 \n",
      " batch_normalization_1 (Batc  (None, 112, 112, 128)    512       \n",
      " hNormalization)                                                 \n",
      "                                                                 \n",
      " max_pooling2d_1 (MaxPooling  (None, 56, 56, 128)      0         \n"
     ]
    },
    {
     "name": "stderr",
     "output_type": "stream",
     "text": [
      "/usr/local/lib/python3.8/dist-packages/keras/optimizers/optimizer_v2/gradient_descent.py:108: UserWarning: The `lr` argument is deprecated, use `learning_rate` instead.\n",
      "  super(SGD, self).__init__(name, **kwargs)\n"
     ]
    },
    {
     "name": "stdout",
     "output_type": "stream",
     "text": [
      " 2D)                                                             \n",
      "                                                                 \n",
      " conv2d_4 (Conv2D)           (None, 56, 56, 256)       295168    \n",
      "                                                                 \n",
      " conv2d_5 (Conv2D)           (None, 56, 56, 256)       590080    \n",
      "                                                                 \n",
      " conv2d_6 (Conv2D)           (None, 56, 56, 256)       590080    \n",
      "                                                                 \n",
      " batch_normalization_2 (Batc  (None, 56, 56, 256)      1024      \n",
      " hNormalization)                                                 \n",
      "                                                                 \n",
      " max_pooling2d_2 (MaxPooling  (None, 28, 28, 256)      0         \n",
      " 2D)                                                             \n",
      "                                                                 \n",
      " conv2d_7 (Conv2D)           (None, 28, 28, 512)       1180160   \n",
      "                                                                 \n",
      " conv2d_8 (Conv2D)           (None, 28, 28, 512)       2359808   \n",
      "                                                                 \n",
      " conv2d_9 (Conv2D)           (None, 28, 28, 512)       2359808   \n",
      "                                                                 \n",
      " batch_normalization_3 (Batc  (None, 28, 28, 512)      2048      \n",
      " hNormalization)                                                 \n",
      "                                                                 \n",
      " max_pooling2d_3 (MaxPooling  (None, 14, 14, 512)      0         \n",
      " 2D)                                                             \n",
      "                                                                 \n",
      " conv2d_10 (Conv2D)          (None, 14, 14, 512)       2359808   \n",
      "                                                                 \n",
      " conv2d_11 (Conv2D)          (None, 14, 14, 512)       2359808   \n",
      "                                                                 \n",
      " conv2d_12 (Conv2D)          (None, 14, 14, 512)       2359808   \n",
      "                                                                 \n",
      " batch_normalization_4 (Batc  (None, 14, 14, 512)      2048      \n",
      " hNormalization)                                                 \n",
      "                                                                 \n",
      " max_pooling2d_4 (MaxPooling  (None, 7, 7, 512)        0         \n",
      " 2D)                                                             \n",
      "                                                                 \n",
      " flatten (Flatten)           (None, 25088)             0         \n",
      "                                                                 \n",
      " dense (Dense)               (None, 4096)              102764544 \n",
      "                                                                 \n",
      " dense_1 (Dense)             (None, 4096)              16781312  \n",
      "                                                                 \n",
      " dense_2 (Dense)             (None, 2)                 8194      \n",
      "                                                                 \n",
      "=================================================================\n",
      "Total params: 134,274,626\n",
      "Trainable params: 134,271,682\n",
      "Non-trainable params: 2,944\n",
      "_________________________________________________________________\n"
     ]
    }
   ],
   "source": [
    "model.compile(loss='sparse_categorical_crossentropy',optimizer=tf.optimizers.SGD(lr=0.01),metrics=['accuracy'])\n",
    "model.summary()"
   ]
  },
  {
   "cell_type": "code",
   "execution_count": 14,
   "metadata": {
    "colab": {
     "base_uri": "https://localhost:8080/"
    },
    "id": "rB68mgaSgwec",
    "outputId": "e196c505-8173-4b64-bad6-a0862b7b8210"
   },
   "outputs": [
    {
     "name": "stdout",
     "output_type": "stream",
     "text": [
      "Epoch 1/100\n",
      "57/57 [==============================] - 54s 711ms/step - loss: 1.8512 - accuracy: 0.5471 - val_loss: 0.9187 - val_accuracy: 0.4700\n",
      "Epoch 2/100\n",
      "57/57 [==============================] - 28s 497ms/step - loss: 0.6457 - accuracy: 0.6474 - val_loss: 0.7894 - val_accuracy: 0.4700\n",
      "Epoch 3/100\n",
      "57/57 [==============================] - 29s 503ms/step - loss: 0.5573 - accuracy: 0.7220 - val_loss: 0.8733 - val_accuracy: 0.5300\n",
      "Epoch 4/100\n",
      "57/57 [==============================] - 29s 502ms/step - loss: 0.4741 - accuracy: 0.7705 - val_loss: 0.8244 - val_accuracy: 0.5200\n",
      "Epoch 5/100\n",
      "57/57 [==============================] - 28s 498ms/step - loss: 0.3837 - accuracy: 0.8329 - val_loss: 0.8496 - val_accuracy: 0.4650\n",
      "Epoch 6/100\n",
      "57/57 [==============================] - 28s 500ms/step - loss: 0.2785 - accuracy: 0.8986 - val_loss: 0.8437 - val_accuracy: 0.5550\n",
      "Epoch 7/100\n",
      "57/57 [==============================] - 29s 501ms/step - loss: 0.2047 - accuracy: 0.9331 - val_loss: 4.5995 - val_accuracy: 0.5300\n",
      "Epoch 8/100\n",
      "57/57 [==============================] - 29s 501ms/step - loss: 0.4235 - accuracy: 0.8373 - val_loss: 0.9337 - val_accuracy: 0.5800\n",
      "Epoch 9/100\n",
      "57/57 [==============================] - 28s 499ms/step - loss: 0.2148 - accuracy: 0.9287 - val_loss: 0.8778 - val_accuracy: 0.6500\n",
      "Epoch 10/100\n",
      "57/57 [==============================] - 28s 499ms/step - loss: 0.0911 - accuracy: 0.9822 - val_loss: 1.3422 - val_accuracy: 0.6150\n",
      "Epoch 11/100\n",
      "57/57 [==============================] - 28s 498ms/step - loss: 0.1790 - accuracy: 0.9515 - val_loss: 2.2133 - val_accuracy: 0.5400\n",
      "Epoch 12/100\n",
      "57/57 [==============================] - 29s 501ms/step - loss: 0.1462 - accuracy: 0.9554 - val_loss: 0.8839 - val_accuracy: 0.6600\n",
      "Epoch 13/100\n",
      "57/57 [==============================] - 28s 499ms/step - loss: 0.0330 - accuracy: 0.9989 - val_loss: 0.8755 - val_accuracy: 0.6800\n",
      "Epoch 14/100\n",
      "57/57 [==============================] - 28s 498ms/step - loss: 0.0176 - accuracy: 0.9994 - val_loss: 0.8818 - val_accuracy: 0.6750\n",
      "Epoch 15/100\n",
      "57/57 [==============================] - 29s 500ms/step - loss: 0.0108 - accuracy: 1.0000 - val_loss: 0.8617 - val_accuracy: 0.6950\n",
      "Epoch 16/100\n",
      "57/57 [==============================] - 28s 500ms/step - loss: 0.0109 - accuracy: 0.9989 - val_loss: 0.9877 - val_accuracy: 0.6550\n",
      "Epoch 17/100\n",
      "57/57 [==============================] - 28s 500ms/step - loss: 0.0085 - accuracy: 0.9994 - val_loss: 0.9244 - val_accuracy: 0.6800\n",
      "Epoch 18/100\n",
      "57/57 [==============================] - 29s 501ms/step - loss: 0.0049 - accuracy: 1.0000 - val_loss: 1.0020 - val_accuracy: 0.6750\n",
      "Epoch 19/100\n",
      "57/57 [==============================] - 29s 501ms/step - loss: 0.0049 - accuracy: 1.0000 - val_loss: 1.3519 - val_accuracy: 0.6000\n",
      "Epoch 20/100\n",
      "57/57 [==============================] - 29s 501ms/step - loss: 0.0088 - accuracy: 0.9994 - val_loss: 7.7738 - val_accuracy: 0.4750\n",
      "Epoch 21/100\n",
      "57/57 [==============================] - 28s 499ms/step - loss: 0.1717 - accuracy: 0.9621 - val_loss: 0.8334 - val_accuracy: 0.6800\n",
      "Epoch 22/100\n",
      "57/57 [==============================] - 28s 499ms/step - loss: 0.0119 - accuracy: 1.0000 - val_loss: 0.8751 - val_accuracy: 0.6800\n",
      "Epoch 23/100\n",
      "57/57 [==============================] - 29s 501ms/step - loss: 0.0063 - accuracy: 1.0000 - val_loss: 0.9546 - val_accuracy: 0.6750\n",
      "Epoch 24/100\n",
      "57/57 [==============================] - 28s 499ms/step - loss: 0.0059 - accuracy: 0.9994 - val_loss: 16.3384 - val_accuracy: 0.5300\n",
      "Epoch 25/100\n",
      "57/57 [==============================] - 28s 499ms/step - loss: 0.3061 - accuracy: 0.9292 - val_loss: 1.5199 - val_accuracy: 0.5350\n",
      "Epoch 26/100\n",
      "57/57 [==============================] - 29s 501ms/step - loss: 0.0429 - accuracy: 0.9911 - val_loss: 0.9225 - val_accuracy: 0.6500\n",
      "Epoch 27/100\n",
      "57/57 [==============================] - 28s 500ms/step - loss: 0.0124 - accuracy: 1.0000 - val_loss: 1.0365 - val_accuracy: 0.6300\n",
      "Epoch 28/100\n",
      "57/57 [==============================] - 28s 498ms/step - loss: 0.0090 - accuracy: 0.9994 - val_loss: 3.6032 - val_accuracy: 0.5100\n",
      "Epoch 29/100\n",
      "57/57 [==============================] - 28s 499ms/step - loss: 0.0564 - accuracy: 0.9866 - val_loss: 0.9768 - val_accuracy: 0.6500\n",
      "Epoch 30/100\n",
      "57/57 [==============================] - 29s 506ms/step - loss: 0.0084 - accuracy: 0.9994 - val_loss: 0.9656 - val_accuracy: 0.6600\n",
      "Epoch 31/100\n",
      "57/57 [==============================] - 28s 499ms/step - loss: 0.0063 - accuracy: 1.0000 - val_loss: 1.0419 - val_accuracy: 0.6700\n",
      "Epoch 32/100\n",
      "57/57 [==============================] - 29s 500ms/step - loss: 0.0044 - accuracy: 1.0000 - val_loss: 1.1743 - val_accuracy: 0.6400\n",
      "Epoch 33/100\n",
      "57/57 [==============================] - 28s 499ms/step - loss: 0.0049 - accuracy: 1.0000 - val_loss: 1.0605 - val_accuracy: 0.6750\n",
      "Epoch 34/100\n",
      "57/57 [==============================] - 29s 501ms/step - loss: 0.0024 - accuracy: 1.0000 - val_loss: 1.0983 - val_accuracy: 0.6750\n",
      "Epoch 35/100\n",
      "57/57 [==============================] - 28s 500ms/step - loss: 0.0022 - accuracy: 1.0000 - val_loss: 1.0719 - val_accuracy: 0.6800\n",
      "Epoch 36/100\n",
      "57/57 [==============================] - 28s 500ms/step - loss: 0.0023 - accuracy: 1.0000 - val_loss: 3.2839 - val_accuracy: 0.5350\n",
      "Epoch 37/100\n",
      "57/57 [==============================] - 28s 499ms/step - loss: 0.0201 - accuracy: 0.9933 - val_loss: 1.1869 - val_accuracy: 0.6200\n",
      "Epoch 38/100\n",
      "57/57 [==============================] - 29s 501ms/step - loss: 0.0031 - accuracy: 1.0000 - val_loss: 1.1109 - val_accuracy: 0.6450\n",
      "Epoch 39/100\n",
      "57/57 [==============================] - 29s 500ms/step - loss: 0.0027 - accuracy: 1.0000 - val_loss: 1.1449 - val_accuracy: 0.6800\n",
      "Epoch 40/100\n",
      "57/57 [==============================] - 29s 500ms/step - loss: 0.0031 - accuracy: 1.0000 - val_loss: 1.1582 - val_accuracy: 0.6700\n",
      "Epoch 41/100\n",
      "57/57 [==============================] - 28s 500ms/step - loss: 0.0032 - accuracy: 0.9989 - val_loss: 32.5768 - val_accuracy: 0.4700\n",
      "Epoch 42/100\n",
      "57/57 [==============================] - 28s 499ms/step - loss: 0.5036 - accuracy: 0.8613 - val_loss: 3.6966 - val_accuracy: 0.5650\n",
      "Epoch 43/100\n",
      "57/57 [==============================] - 28s 499ms/step - loss: 0.0913 - accuracy: 0.9794 - val_loss: 0.9610 - val_accuracy: 0.6200\n",
      "Epoch 44/100\n",
      "57/57 [==============================] - 28s 499ms/step - loss: 0.0162 - accuracy: 0.9994 - val_loss: 0.9335 - val_accuracy: 0.6650\n",
      "Epoch 45/100\n",
      "57/57 [==============================] - 28s 499ms/step - loss: 0.0086 - accuracy: 0.9994 - val_loss: 2.3808 - val_accuracy: 0.5350\n",
      "Epoch 46/100\n",
      "57/57 [==============================] - 29s 500ms/step - loss: 0.0848 - accuracy: 0.9760 - val_loss: 1.1197 - val_accuracy: 0.6450\n",
      "Epoch 47/100\n",
      "57/57 [==============================] - 29s 501ms/step - loss: 0.0102 - accuracy: 1.0000 - val_loss: 0.9758 - val_accuracy: 0.6650\n",
      "Epoch 48/100\n",
      "57/57 [==============================] - 29s 501ms/step - loss: 0.0061 - accuracy: 1.0000 - val_loss: 0.9990 - val_accuracy: 0.6850\n",
      "Epoch 49/100\n",
      "57/57 [==============================] - 29s 500ms/step - loss: 0.0079 - accuracy: 0.9994 - val_loss: 16.8574 - val_accuracy: 0.5450\n",
      "Epoch 50/100\n",
      "57/57 [==============================] - 29s 507ms/step - loss: 0.2908 - accuracy: 0.9370 - val_loss: 1.4172 - val_accuracy: 0.5950\n",
      "Epoch 51/100\n",
      "57/57 [==============================] - 28s 499ms/step - loss: 0.0214 - accuracy: 0.9983 - val_loss: 0.9913 - val_accuracy: 0.6500\n",
      "Epoch 52/100\n",
      "57/57 [==============================] - 28s 499ms/step - loss: 0.0082 - accuracy: 1.0000 - val_loss: 0.9536 - val_accuracy: 0.6550\n",
      "Epoch 53/100\n",
      "57/57 [==============================] - 28s 500ms/step - loss: 0.0062 - accuracy: 1.0000 - val_loss: 1.0283 - val_accuracy: 0.6700\n",
      "Epoch 54/100\n",
      "57/57 [==============================] - 28s 499ms/step - loss: 0.0045 - accuracy: 1.0000 - val_loss: 1.0876 - val_accuracy: 0.6600\n",
      "Epoch 55/100\n",
      "57/57 [==============================] - 28s 499ms/step - loss: 0.0050 - accuracy: 0.9994 - val_loss: 1.2302 - val_accuracy: 0.6300\n",
      "Epoch 56/100\n",
      "57/57 [==============================] - 28s 499ms/step - loss: 0.0043 - accuracy: 1.0000 - val_loss: 1.8995 - val_accuracy: 0.5600\n",
      "Epoch 57/100\n",
      "57/57 [==============================] - 28s 500ms/step - loss: 0.0193 - accuracy: 0.9928 - val_loss: 1.0856 - val_accuracy: 0.6800\n",
      "Epoch 58/100\n",
      "57/57 [==============================] - 29s 501ms/step - loss: 0.0043 - accuracy: 1.0000 - val_loss: 1.8336 - val_accuracy: 0.5900\n",
      "Epoch 59/100\n",
      "57/57 [==============================] - 29s 500ms/step - loss: 0.0126 - accuracy: 0.9978 - val_loss: 1.0639 - val_accuracy: 0.6650\n",
      "Epoch 60/100\n",
      "57/57 [==============================] - 28s 499ms/step - loss: 0.0031 - accuracy: 1.0000 - val_loss: 1.1082 - val_accuracy: 0.6600\n",
      "Epoch 61/100\n",
      "57/57 [==============================] - 28s 500ms/step - loss: 0.0023 - accuracy: 1.0000 - val_loss: 2.1772 - val_accuracy: 0.5750\n",
      "Epoch 62/100\n",
      "57/57 [==============================] - 28s 498ms/step - loss: 0.0061 - accuracy: 0.9989 - val_loss: 1.1759 - val_accuracy: 0.6500\n",
      "Epoch 63/100\n",
      "57/57 [==============================] - 28s 499ms/step - loss: 0.0024 - accuracy: 1.0000 - val_loss: 1.3252 - val_accuracy: 0.6550\n",
      "Epoch 64/100\n",
      "57/57 [==============================] - 28s 499ms/step - loss: 0.0054 - accuracy: 0.9989 - val_loss: 3.7487 - val_accuracy: 0.5700\n",
      "Epoch 65/100\n",
      "57/57 [==============================] - 28s 499ms/step - loss: 0.0829 - accuracy: 0.9777 - val_loss: 1.1031 - val_accuracy: 0.7050\n",
      "Epoch 66/100\n",
      "57/57 [==============================] - 28s 500ms/step - loss: 0.0035 - accuracy: 1.0000 - val_loss: 1.4826 - val_accuracy: 0.6350\n",
      "Epoch 67/100\n",
      "57/57 [==============================] - 29s 501ms/step - loss: 0.0069 - accuracy: 0.9989 - val_loss: 2.2331 - val_accuracy: 0.5850\n",
      "Epoch 68/100\n",
      "57/57 [==============================] - 29s 501ms/step - loss: 0.0151 - accuracy: 0.9972 - val_loss: 1.1639 - val_accuracy: 0.6750\n",
      "Epoch 69/100\n",
      "57/57 [==============================] - 28s 499ms/step - loss: 0.0029 - accuracy: 1.0000 - val_loss: 1.1251 - val_accuracy: 0.7000\n",
      "Epoch 70/100\n",
      "57/57 [==============================] - 28s 499ms/step - loss: 0.0018 - accuracy: 1.0000 - val_loss: 1.1511 - val_accuracy: 0.6950\n",
      "Epoch 71/100\n",
      "57/57 [==============================] - 28s 499ms/step - loss: 0.0016 - accuracy: 1.0000 - val_loss: 1.3116 - val_accuracy: 0.6850\n",
      "Epoch 72/100\n",
      "57/57 [==============================] - 29s 501ms/step - loss: 0.0050 - accuracy: 1.0000 - val_loss: 1.2959 - val_accuracy: 0.6800\n",
      "Epoch 73/100\n",
      "57/57 [==============================] - 28s 499ms/step - loss: 0.0018 - accuracy: 1.0000 - val_loss: 1.2190 - val_accuracy: 0.6950\n",
      "Epoch 74/100\n",
      "57/57 [==============================] - 28s 499ms/step - loss: 0.0012 - accuracy: 1.0000 - val_loss: 1.1914 - val_accuracy: 0.7000\n",
      "Epoch 75/100\n",
      "57/57 [==============================] - 29s 501ms/step - loss: 0.0019 - accuracy: 1.0000 - val_loss: 1.2454 - val_accuracy: 0.6900\n",
      "Epoch 76/100\n",
      "57/57 [==============================] - 28s 500ms/step - loss: 0.0013 - accuracy: 1.0000 - val_loss: 1.2332 - val_accuracy: 0.6900\n",
      "Epoch 77/100\n",
      "57/57 [==============================] - 28s 498ms/step - loss: 8.9663e-04 - accuracy: 1.0000 - val_loss: 1.2106 - val_accuracy: 0.7050\n",
      "Epoch 78/100\n",
      "57/57 [==============================] - 28s 499ms/step - loss: 7.5800e-04 - accuracy: 1.0000 - val_loss: 1.2306 - val_accuracy: 0.7000\n",
      "Epoch 79/100\n",
      "57/57 [==============================] - 29s 502ms/step - loss: 7.4805e-04 - accuracy: 1.0000 - val_loss: 1.2348 - val_accuracy: 0.6950\n",
      "Epoch 80/100\n",
      "57/57 [==============================] - 28s 499ms/step - loss: 6.3910e-04 - accuracy: 1.0000 - val_loss: 1.4236 - val_accuracy: 0.6550\n",
      "Epoch 81/100\n",
      "57/57 [==============================] - 28s 498ms/step - loss: 0.0014 - accuracy: 1.0000 - val_loss: 4.3822 - val_accuracy: 0.5300\n",
      "Epoch 82/100\n",
      "57/57 [==============================] - 29s 500ms/step - loss: 0.0284 - accuracy: 0.9950 - val_loss: 1.2382 - val_accuracy: 0.6650\n",
      "Epoch 83/100\n",
      "57/57 [==============================] - 28s 499ms/step - loss: 0.0041 - accuracy: 0.9994 - val_loss: 1.2407 - val_accuracy: 0.6700\n",
      "Epoch 84/100\n",
      "57/57 [==============================] - 28s 498ms/step - loss: 0.0026 - accuracy: 1.0000 - val_loss: 1.1566 - val_accuracy: 0.6800\n",
      "Epoch 85/100\n",
      "57/57 [==============================] - 28s 499ms/step - loss: 0.0013 - accuracy: 1.0000 - val_loss: 1.1786 - val_accuracy: 0.6950\n",
      "Epoch 86/100\n",
      "57/57 [==============================] - 28s 498ms/step - loss: 9.5854e-04 - accuracy: 1.0000 - val_loss: 1.1655 - val_accuracy: 0.6950\n",
      "Epoch 87/100\n",
      "57/57 [==============================] - 29s 501ms/step - loss: 9.5336e-04 - accuracy: 1.0000 - val_loss: 1.1975 - val_accuracy: 0.6950\n",
      "Epoch 88/100\n",
      "57/57 [==============================] - 29s 500ms/step - loss: 0.0011 - accuracy: 1.0000 - val_loss: 2.0413 - val_accuracy: 0.6050\n",
      "Epoch 89/100\n",
      "57/57 [==============================] - 28s 499ms/step - loss: 0.0094 - accuracy: 0.9961 - val_loss: 87.5936 - val_accuracy: 0.4700\n",
      "Epoch 90/100\n",
      "57/57 [==============================] - 29s 502ms/step - loss: 0.5703 - accuracy: 0.8329 - val_loss: 1.5553 - val_accuracy: 0.5450\n",
      "Epoch 91/100\n",
      "57/57 [==============================] - 28s 499ms/step - loss: 0.0688 - accuracy: 0.9827 - val_loss: 0.9049 - val_accuracy: 0.6400\n",
      "Epoch 92/100\n",
      "57/57 [==============================] - 28s 500ms/step - loss: 0.0130 - accuracy: 0.9994 - val_loss: 0.9590 - val_accuracy: 0.6600\n",
      "Epoch 93/100\n",
      "57/57 [==============================] - 28s 499ms/step - loss: 0.0080 - accuracy: 0.9994 - val_loss: 0.9424 - val_accuracy: 0.6700\n",
      "Epoch 94/100\n",
      "57/57 [==============================] - 28s 498ms/step - loss: 0.0051 - accuracy: 1.0000 - val_loss: 0.9821 - val_accuracy: 0.6750\n",
      "Epoch 95/100\n",
      "57/57 [==============================] - 28s 499ms/step - loss: 0.0035 - accuracy: 1.0000 - val_loss: 1.6056 - val_accuracy: 0.6100\n",
      "Epoch 96/100\n",
      "57/57 [==============================] - 29s 500ms/step - loss: 0.0072 - accuracy: 0.9989 - val_loss: 1.0242 - val_accuracy: 0.6550\n",
      "Epoch 97/100\n",
      "57/57 [==============================] - 28s 498ms/step - loss: 0.0023 - accuracy: 1.0000 - val_loss: 1.0470 - val_accuracy: 0.6700\n",
      "Epoch 98/100\n",
      "57/57 [==============================] - 28s 500ms/step - loss: 0.0029 - accuracy: 0.9994 - val_loss: 2.7613 - val_accuracy: 0.6050\n",
      "Epoch 99/100\n",
      "57/57 [==============================] - 28s 500ms/step - loss: 0.0289 - accuracy: 0.9933 - val_loss: 1.0705 - val_accuracy: 0.6750\n",
      "Epoch 100/100\n",
      "57/57 [==============================] - 28s 498ms/step - loss: 0.0032 - accuracy: 1.0000 - val_loss: 2.5553 - val_accuracy: 0.6050\n"
     ]
    }
   ],
   "source": [
    "hist = model.fit(x_train,y_train, validation_data= (x_test,y_test),epochs=100,batch_size=32,shuffle=True)"
   ]
  },
  {
   "cell_type": "code",
   "execution_count": 15,
   "metadata": {
    "colab": {
     "base_uri": "https://localhost:8080/"
    },
    "id": "nYslNPFvpa5K",
    "outputId": "104ca4be-f7d1-4b41-eac6-19e2623e7540"
   },
   "outputs": [
    {
     "name": "stdout",
     "output_type": "stream",
     "text": [
      "7/7 [==============================] - 1s 125ms/step - loss: 2.5553 - accuracy: 0.6050\n",
      "Test Loss: 2.55533504486084\n",
      "Test Accuracy: 60.50000190734863  %\n"
     ]
    }
   ],
   "source": [
    "loss, accuracy = model.evaluate(x_test, y_test, verbose=1)\n",
    "print('Test Loss:', loss)\n",
    "print('Test Accuracy:', accuracy*100,\" %\")\n"
   ]
  },
  {
   "cell_type": "code",
   "execution_count": 16,
   "metadata": {
    "colab": {
     "base_uri": "https://localhost:8080/"
    },
    "id": "VhGuB-ddpqbN",
    "outputId": "e5ff72e0-5dc2-43cc-ced8-04f21778cfda"
   },
   "outputs": [
    {
     "name": "stdout",
     "output_type": "stream",
     "text": [
      "7/7 [==============================] - 1s 131ms/step\n"
     ]
    }
   ],
   "source": [
    "predictions = model.predict(x_test)"
   ]
  },
  {
   "cell_type": "code",
   "execution_count": 17,
   "metadata": {
    "id": "4DUS7kO_oKXI"
   },
   "outputs": [],
   "source": [
    "predictions_label = []\n",
    "for i in range(len(predictions)):\n",
    "    predictions_label.append(predictions[i].argmax())"
   ]
  },
  {
   "cell_type": "code",
   "execution_count": 18,
   "metadata": {
    "colab": {
     "base_uri": "https://localhost:8080/",
     "height": 777
    },
    "id": "F-_k8jdip3_d",
    "outputId": "e9c77c19-cc6c-4eca-9d25-b89e7bb8f2e0"
   },
   "outputs": [
    {
     "data": {
      "image/png": "[encoded data removed]",
      "text/plain": [
       "<Figure size 1440x720 with 2 Axes>"
      ]
     },
     "metadata": {
      "needs_background": "light"
     },
     "output_type": "display_data"
    },
    {
     "name": "stdout",
     "output_type": "stream",
     "text": [
      "              precision    recall  f1-score   support\n",
      "\n",
      "         0.0       0.55      0.89      0.68        94\n",
      "         1.0       0.79      0.35      0.48       106\n",
      "\n",
      "    accuracy                           0.60       200\n",
      "   macro avg       0.67      0.62      0.58       200\n",
      "weighted avg       0.68      0.60      0.58       200\n",
      "\n"
     ]
    }
   ],
   "source": [
    "plt.figure(figsize=(20,10))\n",
    "cf1 = confusion_matrix(y_test,predictions_label)\n",
    "sns.heatmap(cf1,annot=True,fmt = '.0f')\n",
    "plt.xlabel('prediction')\n",
    "plt.ylabel('Actual')\n",
    "plt.title('Confusion Matrix Report')\n",
    "plt.show()\n",
    "\n",
    "print(classification_report(y_test,predictions_label))"
   ]
  }
 ],
 "metadata": {
  "accelerator": "GPU",
  "colab": {
   "provenance": []
  },
  "gpuClass": "standard",
  "kernelspec": {
   "display_name": "Python 3 (ipykernel)",
   "language": "python",
   "name": "python3"
  },
  "language_info": {
   "codemirror_mode": {
    "name": "ipython",
    "version": 3
   },
   "file_extension": ".py",
   "mimetype": "text/x-python",
   "name": "python",
   "nbconvert_exporter": "python",
   "pygments_lexer": "ipython3",
   "version": "3.9.13"
  }
 },
 "nbformat": 4,
 "nbformat_minor": 1
}
