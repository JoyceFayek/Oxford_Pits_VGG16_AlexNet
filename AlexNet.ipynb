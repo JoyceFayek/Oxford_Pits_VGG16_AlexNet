{
 "cells": [
  {
   "cell_type": "code",
   "execution_count": 14,
   "metadata": {
    "id": "iUGCkcKmYItU"
   },
   "outputs": [],
   "source": [
    "import tensorflow as tf\n",
    "%matplotlib inline \n",
    "from tensorflow import keras\n",
    "from sklearn import metrics\n",
    "import numpy as np\n",
    "import pandas as pd\n",
    "from sklearn.model_selection import train_test_split\n",
    "from keras.models import Sequential\n",
    "from keras.layers.core import Dense, Dropout, Activation, Flatten\n",
    "from keras.layers.convolutional import Conv2D\n",
    "from keras.layers import Dense, Conv2D, MaxPool2D , Flatten ,BatchNormalization\n",
    "from tensorflow.keras.optimizers import Adam,Nadam, SGD\n",
    "import seaborn as sns\n",
    "from sklearn.metrics import classification_report\n",
    "from sklearn.metrics import confusion_matrix\n",
    "import matplotlib.pyplot as plt\n",
    "import cv2\n",
    "import os\n",
    "from os import listdir"
   ]
  },
  {
   "cell_type": "code",
   "execution_count": 36,
   "metadata": {
    "id": "EZpxu855d4E3"
   },
   "outputs": [],
   "source": [
    "cats=[]\n",
    "i=0\n",
    "for images in os.listdir('cats'):\n",
    "    img=cv2.imread((\"cats//\" +images),cv2.IMREAD_UNCHANGED)\n",
    "    if(type(img) == type(None)):\n",
    "      pass\n",
    "    else:\n",
    "      resized = cv2.resize(img, (224,224), interpolation = cv2.INTER_AREA)\n",
    "      normalize=(np.asarray(resized).astype('float32')) / 255\n",
    "      cats.append(normalize)"
   ]
  },
  {
   "cell_type": "code",
   "execution_count": 37,
   "metadata": {
    "id": "si5nJncfd85F"
   },
   "outputs": [],
   "source": [
    "dogs=[]\n",
    "i=0\n",
    "for images in os.listdir('dogs'):\n",
    "    img=cv2.imread((\"dogs//\" +images),cv2.IMREAD_UNCHANGED)\n",
    "    if(type(img) == type(None)):\n",
    "      pass\n",
    "    else:\n",
    "      resized = cv2.resize(img, (224,224), interpolation = cv2.INTER_AREA)\n",
    "      normalize=(np.asarray(resized).astype('float32')) / 255\n",
    "      dogs.append(normalize)"
   ]
  },
  {
   "cell_type": "code",
   "execution_count": 38,
   "metadata": {
    "id": "j--3x2pBeAbL"
   },
   "outputs": [],
   "source": [
    "data = cats+dogs\n",
    "data = np.array(data)"
   ]
  },
  {
   "cell_type": "code",
   "execution_count": 39,
   "metadata": {
    "colab": {
     "base_uri": "https://localhost:8080/"
    },
    "id": "XopOXHNAlN3H",
    "outputId": "948d8647-31dc-4601-9308-004d589629ef"
   },
   "outputs": [
    {
     "data": {
      "text/plain": [
       "(1995, 224, 224, 3)"
      ]
     },
     "execution_count": 39,
     "metadata": {},
     "output_type": "execute_result"
    }
   ],
   "source": [
    "data.shape"
   ]
  },
  {
   "cell_type": "code",
   "execution_count": 40,
   "metadata": {
    "id": "ZXbfbApseB05"
   },
   "outputs": [],
   "source": [
    "cats_labels = np.ones(len(cats))\n",
    "dogs_labels = np.zeros(len(dogs))"
   ]
  },
  {
   "cell_type": "code",
   "execution_count": 41,
   "metadata": {
    "colab": {
     "base_uri": "https://localhost:8080/"
    },
    "id": "kIpEYWc7khXH",
    "outputId": "68586d42-34c2-4803-abc8-a457fac80326"
   },
   "outputs": [
    {
     "data": {
      "text/plain": [
       "array([1., 1., 1., ..., 0., 0., 0.])"
      ]
     },
     "execution_count": 41,
     "metadata": {},
     "output_type": "execute_result"
    }
   ],
   "source": [
    "labels = np.concatenate((cats_labels, dogs_labels))\n",
    "labels"
   ]
  },
  {
   "cell_type": "code",
   "execution_count": 42,
   "metadata": {
    "id": "M8JVLQ9FgOAJ"
   },
   "outputs": [],
   "source": [
    "x_train,x_test,y_train,y_test = train_test_split(data,labels,shuffle=True,test_size=0.1)"
   ]
  },
  {
   "cell_type": "code",
   "execution_count": 43,
   "metadata": {
    "colab": {
     "base_uri": "https://localhost:8080/"
    },
    "id": "3g1PTbZxm72J",
    "outputId": "5031974a-e8dc-4a5b-a470-cd96ea16182b"
   },
   "outputs": [
    {
     "data": {
      "text/plain": [
       "(200, 224, 224, 3)"
      ]
     },
     "execution_count": 43,
     "metadata": {},
     "output_type": "execute_result"
    }
   ],
   "source": [
    "x_test.shape"
   ]
  },
  {
   "cell_type": "code",
   "execution_count": 44,
   "metadata": {
    "colab": {
     "base_uri": "https://localhost:8080/"
    },
    "id": "z3E_fzEMnSZA",
    "outputId": "c948b6f2-674d-440e-9fad-fc597fa29638"
   },
   "outputs": [
    {
     "data": {
      "text/plain": [
       "(200,)"
      ]
     },
     "execution_count": 44,
     "metadata": {},
     "output_type": "execute_result"
    }
   ],
   "source": [
    "y_test.shape"
   ]
  },
  {
   "cell_type": "code",
   "execution_count": 45,
   "metadata": {
    "id": "M3A7Mf3KgV57"
   },
   "outputs": [],
   "source": [
    "model = Sequential()\n",
    "\n",
    "model.add(Conv2D(filters=96, kernel_size=(11, 11), strides=(4, 4), activation=\"relu\", input_shape=(224, 224, 3)))\n",
    "model.add(BatchNormalization())\n",
    "model.add(MaxPool2D(pool_size=(3, 3), strides= (2, 2)))\n",
    "\n",
    "model.add(Conv2D(filters=256, kernel_size=(5, 5), strides=(1, 1), activation=\"relu\", padding=\"same\"))\n",
    "model.add(BatchNormalization())\n",
    "model.add(MaxPool2D(pool_size=(3, 3), strides=(2, 2)))\n",
    "\n",
    "model.add(Conv2D(filters=384, kernel_size=(3, 3), strides=(1, 1), activation=\"relu\", padding=\"same\"))\n",
    "model.add(BatchNormalization())\n",
    "\n",
    "model.add(Conv2D(filters=384, kernel_size=(3, 3), strides=(1, 1), activation=\"relu\", padding=\"same\"))\n",
    "model.add(BatchNormalization())\n",
    "\n",
    "model.add(Conv2D(filters=256, kernel_size=(3, 3), strides=(1, 1), activation=\"relu\", padding=\"same\"))\n",
    "model.add(BatchNormalization())\n",
    "model.add(MaxPool2D(pool_size=(3, 3), strides=(2, 2)))"
   ]
  },
  {
   "cell_type": "code",
   "execution_count": 46,
   "metadata": {
    "id": "Qp-iCgZIsmLj"
   },
   "outputs": [],
   "source": [
    "model.add(Flatten())\n",
    "model.add(Dense(units=4096,activation=\"relu\"))\n",
    "model.add(Dense(units=4096,activation=\"relu\"))\n",
    "model.add(Dense(units=2, activation=\"softmax\"))"
   ]
  },
  {
   "cell_type": "code",
   "execution_count": 54,
   "metadata": {
    "colab": {
     "base_uri": "https://localhost:8080/"
    },
    "id": "HbTdvtvEgWD-",
    "outputId": "ef05178b-2107-4fb6-c4b1-b0f0beb08f16"
   },
   "outputs": [
    {
     "name": "stdout",
     "output_type": "stream",
     "text": [
      "Model: \"sequential_6\"\n",
      "_________________________________________________________________\n",
      " Layer (type)                Output Shape              Param #   \n",
      "=================================================================\n",
      " conv2d_20 (Conv2D)          (None, 54, 54, 96)        34944     \n",
      "                                                                 \n",
      " batch_normalization_20 (Bat  (None, 54, 54, 96)       384       \n",
      " chNormalization)                                                \n",
      "                                                                 \n",
      " max_pooling2d_12 (MaxPoolin  (None, 26, 26, 96)       0         \n",
      " g2D)                                                            \n",
      "                                                                 \n",
      " conv2d_21 (Conv2D)          (None, 26, 26, 256)       614656    \n",
      "                                                                 \n",
      " batch_normalization_21 (Bat  (None, 26, 26, 256)      1024      \n",
      " chNormalization)                                                \n",
      "                                                                 \n",
      " max_pooling2d_13 (MaxPoolin  (None, 12, 12, 256)      0         \n",
      " g2D)                                                            \n",
      "                                                                 \n",
      " conv2d_22 (Conv2D)          (None, 12, 12, 384)       885120    \n",
      "                                                                 \n",
      " batch_normalization_22 (Bat  (None, 12, 12, 384)      1536      \n",
      " chNormalization)                                                \n",
      "                                                                 \n",
      " conv2d_23 (Conv2D)          (None, 12, 12, 384)       1327488   \n",
      "                                                                 \n",
      " batch_normalization_23 (Bat  (None, 12, 12, 384)      1536      \n",
      " chNormalization)                                                \n",
      "                                                                 \n",
      " conv2d_24 (Conv2D)          (None, 12, 12, 256)       884992    \n",
      "                                                                 \n",
      " batch_normalization_24 (Bat  (None, 12, 12, 256)      1024      \n",
      " chNormalization)                                                \n",
      "                                                                 \n",
      " max_pooling2d_14 (MaxPoolin  (None, 5, 5, 256)        0         \n",
      " g2D)                                                            \n",
      "                                                                 \n",
      " flatten_5 (Flatten)         (None, 6400)              0         \n",
      "                                                                 \n",
      " dense_11 (Dense)            (None, 4096)              26218496  \n",
      "                                                                 \n",
      " dense_12 (Dense)            (None, 4096)              16781312  \n",
      "                                                                 \n",
      " dense_13 (Dense)            (None, 2)                 8194      \n",
      "                                                                 \n",
      "=================================================================\n",
      "Total params: 46,760,706\n",
      "Trainable params: 46,757,954\n",
      "Non-trainable params: 2,752\n",
      "_________________________________________________________________\n"
     ]
    },
    {
     "name": "stderr",
     "output_type": "stream",
     "text": [
      "/usr/local/lib/python3.8/dist-packages/keras/optimizers/optimizer_v2/gradient_descent.py:108: UserWarning: The `lr` argument is deprecated, use `learning_rate` instead.\n",
      "  super(SGD, self).__init__(name, **kwargs)\n"
     ]
    }
   ],
   "source": [
    "model.compile(loss='sparse_categorical_crossentropy',optimizer=tf.optimizers.SGD(lr=0.01),metrics=['accuracy'])\n",
    "model.summary()"
   ]
  },
  {
   "cell_type": "code",
   "execution_count": 55,
   "metadata": {
    "colab": {
     "base_uri": "https://localhost:8080/"
    },
    "id": "rB68mgaSgwec",
    "outputId": "63641d93-339b-421d-934a-d99154ff6501"
   },
   "outputs": [
    {
     "name": "stdout",
     "output_type": "stream",
     "text": [
      "Epoch 1/100\n",
      "57/57 [==============================] - 4s 54ms/step - loss: 0.0449 - accuracy: 0.9861 - val_loss: 1.9363 - val_accuracy: 0.6400\n",
      "Epoch 2/100\n",
      "57/57 [==============================] - 3s 48ms/step - loss: 0.0194 - accuracy: 0.9939 - val_loss: 2.1013 - val_accuracy: 0.6300\n",
      "Epoch 3/100\n",
      "57/57 [==============================] - 3s 45ms/step - loss: 0.0204 - accuracy: 0.9928 - val_loss: 2.1252 - val_accuracy: 0.6450\n",
      "Epoch 4/100\n",
      "57/57 [==============================] - 3s 45ms/step - loss: 0.0137 - accuracy: 0.9933 - val_loss: 2.3333 - val_accuracy: 0.6300\n",
      "Epoch 5/100\n",
      "57/57 [==============================] - 3s 45ms/step - loss: 0.0090 - accuracy: 0.9978 - val_loss: 2.5677 - val_accuracy: 0.6250\n",
      "Epoch 6/100\n",
      "57/57 [==============================] - 3s 46ms/step - loss: 0.0113 - accuracy: 0.9972 - val_loss: 2.6170 - val_accuracy: 0.6250\n",
      "Epoch 7/100\n",
      "57/57 [==============================] - 3s 45ms/step - loss: 0.0076 - accuracy: 0.9978 - val_loss: 2.5598 - val_accuracy: 0.6500\n",
      "Epoch 8/100\n",
      "57/57 [==============================] - 3s 46ms/step - loss: 0.0050 - accuracy: 1.0000 - val_loss: 2.7649 - val_accuracy: 0.6500\n",
      "Epoch 9/100\n",
      "57/57 [==============================] - 3s 47ms/step - loss: 0.0046 - accuracy: 0.9994 - val_loss: 2.7309 - val_accuracy: 0.6500\n",
      "Epoch 10/100\n",
      "57/57 [==============================] - 3s 49ms/step - loss: 0.0087 - accuracy: 0.9983 - val_loss: 2.7944 - val_accuracy: 0.6450\n",
      "Epoch 11/100\n",
      "57/57 [==============================] - 3s 46ms/step - loss: 0.0065 - accuracy: 0.9989 - val_loss: 2.8537 - val_accuracy: 0.6400\n",
      "Epoch 12/100\n",
      "57/57 [==============================] - 3s 46ms/step - loss: 0.0038 - accuracy: 1.0000 - val_loss: 2.7687 - val_accuracy: 0.6600\n",
      "Epoch 13/100\n",
      "57/57 [==============================] - 3s 45ms/step - loss: 0.0071 - accuracy: 0.9972 - val_loss: 2.9280 - val_accuracy: 0.6550\n",
      "Epoch 14/100\n",
      "57/57 [==============================] - 3s 45ms/step - loss: 0.0031 - accuracy: 0.9994 - val_loss: 3.0614 - val_accuracy: 0.6350\n",
      "Epoch 15/100\n",
      "57/57 [==============================] - 3s 45ms/step - loss: 0.0026 - accuracy: 0.9994 - val_loss: 3.0607 - val_accuracy: 0.6500\n",
      "Epoch 16/100\n",
      "57/57 [==============================] - 3s 45ms/step - loss: 0.0121 - accuracy: 0.9978 - val_loss: 3.0072 - val_accuracy: 0.6450\n",
      "Epoch 17/100\n",
      "57/57 [==============================] - 3s 45ms/step - loss: 0.0015 - accuracy: 1.0000 - val_loss: 3.0987 - val_accuracy: 0.6550\n",
      "Epoch 18/100\n",
      "57/57 [==============================] - 3s 45ms/step - loss: 0.0040 - accuracy: 0.9978 - val_loss: 3.1565 - val_accuracy: 0.6400\n",
      "Epoch 19/100\n",
      "57/57 [==============================] - 3s 45ms/step - loss: 0.0038 - accuracy: 0.9994 - val_loss: 3.1702 - val_accuracy: 0.6450\n",
      "Epoch 20/100\n",
      "57/57 [==============================] - 3s 45ms/step - loss: 0.0032 - accuracy: 0.9989 - val_loss: 3.1160 - val_accuracy: 0.6550\n",
      "Epoch 21/100\n",
      "57/57 [==============================] - 3s 46ms/step - loss: 0.0026 - accuracy: 0.9989 - val_loss: 3.2654 - val_accuracy: 0.6500\n",
      "Epoch 22/100\n",
      "57/57 [==============================] - 3s 44ms/step - loss: 0.0039 - accuracy: 0.9983 - val_loss: 3.1827 - val_accuracy: 0.6500\n",
      "Epoch 23/100\n",
      "57/57 [==============================] - 3s 45ms/step - loss: 0.0061 - accuracy: 0.9978 - val_loss: 3.2870 - val_accuracy: 0.6500\n",
      "Epoch 24/100\n",
      "57/57 [==============================] - 3s 45ms/step - loss: 0.0030 - accuracy: 0.9994 - val_loss: 3.0293 - val_accuracy: 0.6550\n",
      "Epoch 25/100\n",
      "57/57 [==============================] - 3s 45ms/step - loss: 0.0146 - accuracy: 0.9950 - val_loss: 3.2443 - val_accuracy: 0.6350\n",
      "Epoch 26/100\n",
      "57/57 [==============================] - 3s 44ms/step - loss: 0.0030 - accuracy: 0.9994 - val_loss: 3.4073 - val_accuracy: 0.6300\n",
      "Epoch 27/100\n",
      "57/57 [==============================] - 3s 49ms/step - loss: 0.0042 - accuracy: 0.9989 - val_loss: 2.7468 - val_accuracy: 0.6600\n",
      "Epoch 28/100\n",
      "57/57 [==============================] - 3s 46ms/step - loss: 0.0097 - accuracy: 0.9967 - val_loss: 3.7792 - val_accuracy: 0.6000\n",
      "Epoch 29/100\n",
      "57/57 [==============================] - 3s 45ms/step - loss: 0.0100 - accuracy: 0.9961 - val_loss: 3.2019 - val_accuracy: 0.6700\n",
      "Epoch 30/100\n",
      "57/57 [==============================] - 3s 45ms/step - loss: 0.0027 - accuracy: 0.9994 - val_loss: 3.2688 - val_accuracy: 0.6750\n",
      "Epoch 31/100\n",
      "57/57 [==============================] - 3s 45ms/step - loss: 0.0021 - accuracy: 0.9994 - val_loss: 3.2776 - val_accuracy: 0.6800\n",
      "Epoch 32/100\n",
      "57/57 [==============================] - 3s 44ms/step - loss: 0.0082 - accuracy: 0.9989 - val_loss: 3.2525 - val_accuracy: 0.6800\n",
      "Epoch 33/100\n",
      "57/57 [==============================] - 3s 45ms/step - loss: 0.0093 - accuracy: 0.9983 - val_loss: 3.4638 - val_accuracy: 0.6200\n",
      "Epoch 34/100\n",
      "57/57 [==============================] - 3s 45ms/step - loss: 0.0093 - accuracy: 0.9972 - val_loss: 3.2577 - val_accuracy: 0.6600\n",
      "Epoch 35/100\n",
      "57/57 [==============================] - 3s 45ms/step - loss: 0.0125 - accuracy: 0.9967 - val_loss: 3.0762 - val_accuracy: 0.6600\n",
      "Epoch 36/100\n",
      "57/57 [==============================] - 3s 45ms/step - loss: 0.0023 - accuracy: 0.9994 - val_loss: 3.2485 - val_accuracy: 0.6500\n",
      "Epoch 37/100\n",
      "57/57 [==============================] - 3s 45ms/step - loss: 0.0037 - accuracy: 0.9994 - val_loss: 3.2613 - val_accuracy: 0.6400\n",
      "Epoch 38/100\n",
      "57/57 [==============================] - 3s 45ms/step - loss: 0.0020 - accuracy: 0.9994 - val_loss: 3.2697 - val_accuracy: 0.6400\n",
      "Epoch 39/100\n",
      "57/57 [==============================] - 3s 45ms/step - loss: 0.0076 - accuracy: 0.9983 - val_loss: 3.3364 - val_accuracy: 0.6400\n",
      "Epoch 40/100\n",
      "57/57 [==============================] - 3s 45ms/step - loss: 0.0013 - accuracy: 1.0000 - val_loss: 3.3262 - val_accuracy: 0.6250\n",
      "Epoch 41/100\n",
      "57/57 [==============================] - 3s 45ms/step - loss: 0.0016 - accuracy: 1.0000 - val_loss: 3.3335 - val_accuracy: 0.6350\n",
      "Epoch 42/100\n",
      "57/57 [==============================] - 3s 45ms/step - loss: 0.0086 - accuracy: 0.9978 - val_loss: 4.7997 - val_accuracy: 0.5450\n",
      "Epoch 43/100\n",
      "57/57 [==============================] - 3s 45ms/step - loss: 0.0276 - accuracy: 0.9933 - val_loss: 3.2317 - val_accuracy: 0.6400\n",
      "Epoch 44/100\n",
      "57/57 [==============================] - 3s 47ms/step - loss: 0.0079 - accuracy: 0.9983 - val_loss: 3.0664 - val_accuracy: 0.5950\n",
      "Epoch 45/100\n",
      "57/57 [==============================] - 3s 46ms/step - loss: 0.0070 - accuracy: 0.9989 - val_loss: 2.8080 - val_accuracy: 0.6400\n",
      "Epoch 46/100\n",
      "57/57 [==============================] - 3s 45ms/step - loss: 0.0036 - accuracy: 0.9994 - val_loss: 2.9911 - val_accuracy: 0.6350\n",
      "Epoch 47/100\n",
      "57/57 [==============================] - 3s 45ms/step - loss: 0.0086 - accuracy: 0.9978 - val_loss: 4.6564 - val_accuracy: 0.5900\n",
      "Epoch 48/100\n",
      "57/57 [==============================] - 3s 45ms/step - loss: 0.0271 - accuracy: 0.9889 - val_loss: 3.0724 - val_accuracy: 0.6350\n",
      "Epoch 49/100\n",
      "57/57 [==============================] - 3s 44ms/step - loss: 0.0065 - accuracy: 0.9983 - val_loss: 3.1556 - val_accuracy: 0.6500\n",
      "Epoch 50/100\n",
      "57/57 [==============================] - 3s 45ms/step - loss: 0.0063 - accuracy: 0.9972 - val_loss: 3.1861 - val_accuracy: 0.6300\n",
      "Epoch 51/100\n",
      "57/57 [==============================] - 3s 45ms/step - loss: 0.0057 - accuracy: 0.9972 - val_loss: 3.5680 - val_accuracy: 0.6200\n",
      "Epoch 52/100\n",
      "57/57 [==============================] - 3s 45ms/step - loss: 0.0117 - accuracy: 0.9939 - val_loss: 3.1654 - val_accuracy: 0.6400\n",
      "Epoch 53/100\n",
      "57/57 [==============================] - 3s 45ms/step - loss: 0.0034 - accuracy: 1.0000 - val_loss: 3.1861 - val_accuracy: 0.6350\n",
      "Epoch 54/100\n",
      "57/57 [==============================] - 3s 45ms/step - loss: 0.0031 - accuracy: 0.9994 - val_loss: 3.2405 - val_accuracy: 0.6500\n",
      "Epoch 55/100\n",
      "57/57 [==============================] - 3s 44ms/step - loss: 0.0049 - accuracy: 0.9978 - val_loss: 3.2427 - val_accuracy: 0.6250\n",
      "Epoch 56/100\n",
      "57/57 [==============================] - 3s 44ms/step - loss: 0.0021 - accuracy: 0.9994 - val_loss: 3.4203 - val_accuracy: 0.6450\n",
      "Epoch 57/100\n",
      "57/57 [==============================] - 3s 45ms/step - loss: 0.0049 - accuracy: 0.9983 - val_loss: 6.0356 - val_accuracy: 0.5650\n",
      "Epoch 58/100\n",
      "57/57 [==============================] - 3s 45ms/step - loss: 0.0127 - accuracy: 0.9961 - val_loss: 3.7037 - val_accuracy: 0.6150\n",
      "Epoch 59/100\n",
      "57/57 [==============================] - 3s 45ms/step - loss: 0.0047 - accuracy: 0.9983 - val_loss: 3.5250 - val_accuracy: 0.6300\n",
      "Epoch 60/100\n",
      "57/57 [==============================] - 3s 45ms/step - loss: 0.0018 - accuracy: 0.9994 - val_loss: 3.4403 - val_accuracy: 0.6400\n",
      "Epoch 61/100\n",
      "57/57 [==============================] - 3s 47ms/step - loss: 5.9492e-04 - accuracy: 1.0000 - val_loss: 3.4522 - val_accuracy: 0.6400\n",
      "Epoch 62/100\n",
      "57/57 [==============================] - 3s 47ms/step - loss: 9.4670e-04 - accuracy: 1.0000 - val_loss: 3.4925 - val_accuracy: 0.6400\n",
      "Epoch 63/100\n",
      "57/57 [==============================] - 3s 45ms/step - loss: 0.0041 - accuracy: 0.9983 - val_loss: 3.4516 - val_accuracy: 0.6200\n",
      "Epoch 64/100\n",
      "57/57 [==============================] - 3s 45ms/step - loss: 0.0012 - accuracy: 1.0000 - val_loss: 3.4957 - val_accuracy: 0.6550\n",
      "Epoch 65/100\n",
      "57/57 [==============================] - 3s 45ms/step - loss: 0.0011 - accuracy: 0.9994 - val_loss: 3.5298 - val_accuracy: 0.6400\n",
      "Epoch 66/100\n",
      "57/57 [==============================] - 3s 45ms/step - loss: 0.0037 - accuracy: 0.9989 - val_loss: 3.3830 - val_accuracy: 0.6350\n",
      "Epoch 67/100\n",
      "57/57 [==============================] - 3s 45ms/step - loss: 0.0013 - accuracy: 0.9994 - val_loss: 3.4055 - val_accuracy: 0.6350\n",
      "Epoch 68/100\n",
      "57/57 [==============================] - 3s 45ms/step - loss: 8.0123e-04 - accuracy: 1.0000 - val_loss: 3.4469 - val_accuracy: 0.6350\n",
      "Epoch 69/100\n",
      "57/57 [==============================] - 3s 45ms/step - loss: 0.0013 - accuracy: 0.9994 - val_loss: 3.5064 - val_accuracy: 0.6400\n",
      "Epoch 70/100\n",
      "57/57 [==============================] - 3s 45ms/step - loss: 0.0013 - accuracy: 1.0000 - val_loss: 3.5295 - val_accuracy: 0.6450\n",
      "Epoch 71/100\n",
      "57/57 [==============================] - 3s 45ms/step - loss: 0.0019 - accuracy: 0.9989 - val_loss: 3.5385 - val_accuracy: 0.6250\n",
      "Epoch 72/100\n",
      "57/57 [==============================] - 3s 45ms/step - loss: 0.0018 - accuracy: 0.9989 - val_loss: 3.6108 - val_accuracy: 0.6600\n",
      "Epoch 73/100\n",
      "57/57 [==============================] - 3s 45ms/step - loss: 8.1603e-04 - accuracy: 1.0000 - val_loss: 3.6052 - val_accuracy: 0.6450\n",
      "Epoch 74/100\n",
      "57/57 [==============================] - 3s 45ms/step - loss: 0.0011 - accuracy: 0.9994 - val_loss: 3.6188 - val_accuracy: 0.6500\n",
      "Epoch 75/100\n",
      "57/57 [==============================] - 3s 45ms/step - loss: 0.0010 - accuracy: 1.0000 - val_loss: 3.6946 - val_accuracy: 0.6350\n",
      "Epoch 76/100\n",
      "57/57 [==============================] - 3s 45ms/step - loss: 0.0014 - accuracy: 0.9989 - val_loss: 3.4983 - val_accuracy: 0.6450\n",
      "Epoch 77/100\n",
      "57/57 [==============================] - 3s 45ms/step - loss: 0.0065 - accuracy: 0.9994 - val_loss: 2.7854 - val_accuracy: 0.6250\n",
      "Epoch 78/100\n",
      "57/57 [==============================] - 3s 45ms/step - loss: 0.0100 - accuracy: 0.9967 - val_loss: 3.0390 - val_accuracy: 0.6550\n",
      "Epoch 79/100\n",
      "57/57 [==============================] - 3s 48ms/step - loss: 0.0026 - accuracy: 0.9989 - val_loss: 3.2103 - val_accuracy: 0.6500\n",
      "Epoch 80/100\n",
      "57/57 [==============================] - 3s 45ms/step - loss: 0.0024 - accuracy: 0.9994 - val_loss: 3.3140 - val_accuracy: 0.6550\n",
      "Epoch 81/100\n",
      "57/57 [==============================] - 3s 46ms/step - loss: 0.0071 - accuracy: 0.9994 - val_loss: 3.5434 - val_accuracy: 0.5950\n",
      "Epoch 82/100\n",
      "57/57 [==============================] - 3s 45ms/step - loss: 0.0116 - accuracy: 0.9955 - val_loss: 2.8908 - val_accuracy: 0.6300\n",
      "Epoch 83/100\n",
      "57/57 [==============================] - 3s 45ms/step - loss: 0.0047 - accuracy: 0.9994 - val_loss: 2.9363 - val_accuracy: 0.6450\n",
      "Epoch 84/100\n",
      "57/57 [==============================] - 3s 45ms/step - loss: 0.0046 - accuracy: 0.9989 - val_loss: 3.0725 - val_accuracy: 0.6550\n",
      "Epoch 85/100\n",
      "57/57 [==============================] - 3s 45ms/step - loss: 0.0037 - accuracy: 0.9994 - val_loss: 3.1086 - val_accuracy: 0.6500\n",
      "Epoch 86/100\n",
      "57/57 [==============================] - 3s 48ms/step - loss: 0.0041 - accuracy: 0.9994 - val_loss: 3.0288 - val_accuracy: 0.6350\n",
      "Epoch 87/100\n",
      "57/57 [==============================] - 3s 46ms/step - loss: 0.0099 - accuracy: 0.9972 - val_loss: 2.9932 - val_accuracy: 0.6150\n",
      "Epoch 88/100\n",
      "57/57 [==============================] - 3s 45ms/step - loss: 0.0067 - accuracy: 0.9983 - val_loss: 3.0207 - val_accuracy: 0.6400\n",
      "Epoch 89/100\n",
      "57/57 [==============================] - 3s 45ms/step - loss: 0.0044 - accuracy: 0.9983 - val_loss: 3.1152 - val_accuracy: 0.6200\n",
      "Epoch 90/100\n",
      "57/57 [==============================] - 3s 45ms/step - loss: 0.0088 - accuracy: 0.9983 - val_loss: 2.2418 - val_accuracy: 0.6300\n",
      "Epoch 91/100\n",
      "57/57 [==============================] - 3s 44ms/step - loss: 0.0236 - accuracy: 0.9950 - val_loss: 2.9666 - val_accuracy: 0.5850\n",
      "Epoch 92/100\n",
      "57/57 [==============================] - 3s 45ms/step - loss: 0.0398 - accuracy: 0.9922 - val_loss: 2.5667 - val_accuracy: 0.6200\n",
      "Epoch 93/100\n",
      "57/57 [==============================] - 3s 45ms/step - loss: 0.0078 - accuracy: 0.9967 - val_loss: 2.5846 - val_accuracy: 0.6350\n",
      "Epoch 94/100\n",
      "57/57 [==============================] - 3s 45ms/step - loss: 0.0049 - accuracy: 0.9989 - val_loss: 2.6346 - val_accuracy: 0.6150\n",
      "Epoch 95/100\n",
      "57/57 [==============================] - 3s 45ms/step - loss: 0.0060 - accuracy: 0.9978 - val_loss: 2.6836 - val_accuracy: 0.6350\n",
      "Epoch 96/100\n",
      "57/57 [==============================] - 3s 45ms/step - loss: 0.0026 - accuracy: 1.0000 - val_loss: 2.7879 - val_accuracy: 0.6400\n",
      "Epoch 97/100\n",
      "57/57 [==============================] - 3s 46ms/step - loss: 0.0026 - accuracy: 0.9994 - val_loss: 2.8597 - val_accuracy: 0.6450\n",
      "Epoch 98/100\n",
      "57/57 [==============================] - 3s 48ms/step - loss: 0.0016 - accuracy: 1.0000 - val_loss: 2.9049 - val_accuracy: 0.6550\n",
      "Epoch 99/100\n",
      "57/57 [==============================] - 3s 45ms/step - loss: 0.0015 - accuracy: 1.0000 - val_loss: 2.9546 - val_accuracy: 0.6450\n",
      "Epoch 100/100\n",
      "57/57 [==============================] - 3s 45ms/step - loss: 0.0016 - accuracy: 1.0000 - val_loss: 3.0390 - val_accuracy: 0.6550\n"
     ]
    }
   ],
   "source": [
    "hist = model.fit(x_train,y_train, validation_data= (x_test,y_test),epochs=100,batch_size=32,shuffle=True)"
   ]
  },
  {
   "cell_type": "code",
   "execution_count": 57,
   "metadata": {
    "colab": {
     "base_uri": "https://localhost:8080/"
    },
    "id": "nYslNPFvpa5K",
    "outputId": "70ab54e7-54c5-45cc-a836-43c253555a98"
   },
   "outputs": [
    {
     "name": "stdout",
     "output_type": "stream",
     "text": [
      "7/7 [==============================] - 0s 24ms/step - loss: 3.0390 - accuracy: 0.6550\n",
      "Test Loss: 3.038973093032837\n",
      "Test Accuracy: 65.49999713897705  %\n"
     ]
    }
   ],
   "source": [
    "loss, accuracy = model.evaluate(x_test, y_test, verbose=1)\n",
    "print('Test Loss:', loss)\n",
    "print('Test Accuracy:', accuracy*100,\" %\")\n"
   ]
  },
  {
   "cell_type": "code",
   "execution_count": 59,
   "metadata": {
    "colab": {
     "base_uri": "https://localhost:8080/"
    },
    "id": "VhGuB-ddpqbN",
    "outputId": "88ebd5bb-fdae-42f8-f53e-96031194c6c6"
   },
   "outputs": [
    {
     "name": "stdout",
     "output_type": "stream",
     "text": [
      "7/7 [==============================] - 0s 21ms/step\n"
     ]
    }
   ],
   "source": [
    "predictions = model.predict(x_test)"
   ]
  },
  {
   "cell_type": "code",
   "execution_count": 60,
   "metadata": {
    "id": "4DUS7kO_oKXI"
   },
   "outputs": [],
   "source": [
    "predictions_label = []\n",
    "for i in range(len(predictions)):\n",
    "    predictions_label.append(predictions[i].argmax())"
   ]
  },
  {
   "cell_type": "code",
   "execution_count": 61,
   "metadata": {
    "colab": {
     "base_uri": "https://localhost:8080/",
     "height": 777
    },
    "id": "F-_k8jdip3_d",
    "outputId": "693b41de-90fe-4aef-dfd1-514531aab85e"
   },
   "outputs": [
    {
     "data": {
      "image/png": "[encoded data removed]",
      "text/plain": [
       "<Figure size 1440x720 with 2 Axes>"
      ]
     },
     "metadata": {
      "needs_background": "light"
     },
     "output_type": "display_data"
    },
    {
     "name": "stdout",
     "output_type": "stream",
     "text": [
      "              precision    recall  f1-score   support\n",
      "\n",
      "         0.0       0.70      0.59      0.64       105\n",
      "         1.0       0.62      0.73      0.67        95\n",
      "\n",
      "    accuracy                           0.66       200\n",
      "   macro avg       0.66      0.66      0.65       200\n",
      "weighted avg       0.66      0.66      0.65       200\n",
      "\n"
     ]
    }
   ],
   "source": [
    "plt.figure(figsize=(20,10))\n",
    "cf1 = confusion_matrix(y_test,predictions_label)\n",
    "sns.heatmap(cf1,annot=True,fmt = '.0f')\n",
    "plt.xlabel('prediction')\n",
    "plt.ylabel('Actual')\n",
    "plt.title('Confusion Matrix Report')\n",
    "plt.show()\n",
    "\n",
    "print(classification_report(y_test,predictions_label))"
   ]
  }
 ],
 "metadata": {
  "accelerator": "GPU",
  "colab": {
   "provenance": []
  },
  "gpuClass": "standard",
  "kernelspec": {
   "display_name": "Python 3 (ipykernel)",
   "language": "python",
   "name": "python3"
  },
  "language_info": {
   "codemirror_mode": {
    "name": "ipython",
    "version": 3
   },
   "file_extension": ".py",
   "mimetype": "text/x-python",
   "name": "python",
   "nbconvert_exporter": "python",
   "pygments_lexer": "ipython3",
   "version": "3.9.13"
  }
 },
 "nbformat": 4,
 "nbformat_minor": 1
}
